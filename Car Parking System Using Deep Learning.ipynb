{
 "cells": [
  {
   "cell_type": "code",
   "execution_count": 1,
   "id": "1b229f38",
   "metadata": {},
   "outputs": [],
   "source": [
    "import numpy as np\n",
    "import os\n",
    "from tensorflow.keras import applications\n",
    "from tensorflow.keras.preprocessing.image import ImageDataGenerator\n",
    "from tensorflow.keras import optimizers\n",
    "from tensorflow.keras.models import Sequential, Model\n",
    "from tensorflow.keras.layers import Dropout, Flatten, Dense, GlobalAveragePooling2D"
   ]
  },
  {
   "cell_type": "markdown",
   "id": "d3f602d9",
   "metadata": {},
   "source": [
    "Load train & test files"
   ]
  },
  {
   "cell_type": "code",
   "execution_count": 2,
   "id": "5a4a5fa9",
   "metadata": {},
   "outputs": [
    {
     "name": "stdout",
     "output_type": "stream",
     "text": [
      "432 164\n"
     ]
    }
   ],
   "source": [
    "files_train = 0\n",
    "files_validation = 0\n",
    "cwd = os.getcwd()\n",
    "folder = 'train_data/train'\n",
    "\n",
    "for sub_folder in os.listdir(folder):\n",
    "    path, dirs, files = next(os.walk(os.path.join(folder, sub_folder)))\n",
    "    files_train +=len(files)\n",
    "    \n",
    "folder = 'train_data/test'\n",
    "\n",
    "for sub_folder in os.listdir(folder):\n",
    "    path, dirs, files = next(os.walk(os.path.join(folder, sub_folder)))\n",
    "    files_validation +=len(files)\n",
    "\n",
    "print(files_train, files_validation)"
   ]
  },
  {
   "cell_type": "markdown",
   "id": "8ff52778",
   "metadata": {},
   "source": [
    "Set key parameters"
   ]
  },
  {
   "cell_type": "code",
   "execution_count": 3,
   "id": "1465f199",
   "metadata": {},
   "outputs": [],
   "source": [
    "img_width, img_height = 48,48\n",
    "train_data_dir = 'train_data/train'\n",
    "validation_data_dir = 'train_data/test'\n",
    "nb_train_sample = files_train\n",
    "nb_validation_sample = files_validation\n",
    "batch_size = 32\n",
    "epochs = 15\n",
    "num_classes = 2"
   ]
  },
  {
   "cell_type": "markdown",
   "id": "031c6a49",
   "metadata": {},
   "source": [
    "Build model on top of a pretrained VGG"
   ]
  },
  {
   "cell_type": "code",
   "execution_count": 4,
   "id": "bc481549",
   "metadata": {},
   "outputs": [],
   "source": [
    "model = applications.VGG16(weights = 'imagenet', include_top = False, input_shape = (img_width, img_height, 3))"
   ]
  },
  {
   "cell_type": "code",
   "execution_count": 5,
   "id": "3b2de7f7",
   "metadata": {},
   "outputs": [
    {
     "data": {
      "text/plain": [
       "[<keras.engine.input_layer.InputLayer at 0x2014caa2f80>,\n",
       " <keras.layers.convolutional.conv2d.Conv2D at 0x2014caa3070>,\n",
       " <keras.layers.convolutional.conv2d.Conv2D at 0x2013412d630>,\n",
       " <keras.layers.pooling.max_pooling2d.MaxPooling2D at 0x2014cb8c0a0>,\n",
       " <keras.layers.convolutional.conv2d.Conv2D at 0x2013412c640>,\n",
       " <keras.layers.convolutional.conv2d.Conv2D at 0x2014cb8d7e0>,\n",
       " <keras.layers.pooling.max_pooling2d.MaxPooling2D at 0x2014cb8e8f0>,\n",
       " <keras.layers.convolutional.conv2d.Conv2D at 0x2014cb8e470>,\n",
       " <keras.layers.convolutional.conv2d.Conv2D at 0x2014cb8e3e0>,\n",
       " <keras.layers.convolutional.conv2d.Conv2D at 0x2014cb8fc10>,\n",
       " <keras.layers.pooling.max_pooling2d.MaxPooling2D at 0x2014cb8ef80>,\n",
       " <keras.layers.convolutional.conv2d.Conv2D at 0x2014cb8faf0>,\n",
       " <keras.layers.convolutional.conv2d.Conv2D at 0x2014cbe1e70>,\n",
       " <keras.layers.convolutional.conv2d.Conv2D at 0x2014cbe2b00>,\n",
       " <keras.layers.pooling.max_pooling2d.MaxPooling2D at 0x2014cbe33d0>,\n",
       " <keras.layers.convolutional.conv2d.Conv2D at 0x2014cbe39d0>,\n",
       " <keras.layers.convolutional.conv2d.Conv2D at 0x2014cbe3d60>,\n",
       " <keras.layers.convolutional.conv2d.Conv2D at 0x2014cbe07c0>,\n",
       " <keras.layers.pooling.max_pooling2d.MaxPooling2D at 0x2014cbf4730>]"
      ]
     },
     "execution_count": 5,
     "metadata": {},
     "output_type": "execute_result"
    }
   ],
   "source": [
    "model.layers"
   ]
  },
  {
   "cell_type": "code",
   "execution_count": 6,
   "id": "2ee0aaed",
   "metadata": {},
   "outputs": [],
   "source": [
    "for layer in model.layers[:10]:\n",
    "    layer.traiable = False"
   ]
  },
  {
   "cell_type": "code",
   "execution_count": 7,
   "id": "50f1108b",
   "metadata": {},
   "outputs": [
    {
     "name": "stderr",
     "output_type": "stream",
     "text": [
      "c:\\Users\\HIMADRI MONDAL\\anaconda3\\envs\\abc\\lib\\site-packages\\keras\\optimizers\\optimizer_v2\\gradient_descent.py:108: UserWarning: The `lr` argument is deprecated, use `learning_rate` instead.\n",
      "  super(SGD, self).__init__(name, **kwargs)\n"
     ]
    }
   ],
   "source": [
    "x = model.output\n",
    "x = Flatten()(x)\n",
    "\n",
    "predictions = Dense(num_classes, activation = 'softmax')(x)\n",
    "model_final = Model(inputs = model.input, outputs = predictions)\n",
    "\n",
    "model_final.compile(loss = 'categorical_crossentropy', \n",
    "                    optimizer = optimizers.SGD(lr = 0.0001, momentum=0.9), \n",
    "                    metrics=['accuracy'])"
   ]
  },
  {
   "cell_type": "markdown",
   "id": "cf4c7d3f",
   "metadata": {},
   "source": [
    "Data Augumentation"
   ]
  },
  {
   "cell_type": "code",
   "execution_count": 8,
   "id": "a0b73e0c",
   "metadata": {},
   "outputs": [
    {
     "name": "stdout",
     "output_type": "stream",
     "text": [
      "Found 432 images belonging to 2 classes.\n",
      "Found 164 images belonging to 2 classes.\n"
     ]
    }
   ],
   "source": [
    "train_datagen = ImageDataGenerator(rescale=1.0/255, horizontal_flip=True, \n",
    "                   fill_mode='nearest',zoom_range=0.1, width_shift_range=0.1, \n",
    "                  height_shift_range=0.1, rotation_range=5)\n",
    "\n",
    "test_datagen = ImageDataGenerator(rescale=1.0/255, horizontal_flip=True, \n",
    "                   fill_mode='nearest',zoom_range=0.1, width_shift_range=0.1, \n",
    "                  height_shift_range=0.1, rotation_range=5)\n",
    "\n",
    "train_generator = train_datagen.flow_from_directory(train_data_dir, target_size=(img_height, img_width), \n",
    "                                 batch_size = batch_size, class_mode = 'categorical')\n",
    "\n",
    "validation_generator = test_datagen.flow_from_directory(validation_data_dir, target_size=(img_height, img_width), \n",
    "                                 batch_size = batch_size, class_mode = 'categorical')"
   ]
  },
  {
   "cell_type": "code",
   "execution_count": 9,
   "id": "64c8e698",
   "metadata": {},
   "outputs": [
    {
     "name": "stderr",
     "output_type": "stream",
     "text": [
      "C:\\Users\\HIMADRI MONDAL\\AppData\\Local\\Temp\\ipykernel_23600\\31626457.py:1: UserWarning: `Model.fit_generator` is deprecated and will be removed in a future version. Please use `Model.fit`, which supports generators.\n",
      "  history = model_final.fit_generator(\n"
     ]
    },
    {
     "name": "stdout",
     "output_type": "stream",
     "text": [
      "Epoch 1/15\n",
      "13/13 [==============================] - 32s 2s/step - loss: 0.7207 - accuracy: 0.5650 - val_loss: 0.4510 - val_accuracy: 0.7688\n",
      "Epoch 2/15\n",
      "13/13 [==============================] - 33s 3s/step - loss: 0.3435 - accuracy: 0.8250 - val_loss: 0.3094 - val_accuracy: 0.8938\n",
      "Epoch 3/15\n",
      "13/13 [==============================] - 31s 2s/step - loss: 0.2531 - accuracy: 0.9200 - val_loss: 0.2604 - val_accuracy: 0.8813\n",
      "Epoch 4/15\n",
      "13/13 [==============================] - 31s 2s/step - loss: 0.1780 - accuracy: 0.9550 - val_loss: 0.2032 - val_accuracy: 0.9187\n",
      "Epoch 5/15\n",
      "13/13 [==============================] - 32s 3s/step - loss: 0.1304 - accuracy: 0.9675 - val_loss: 0.1716 - val_accuracy: 0.9187\n",
      "Epoch 6/15\n",
      "13/13 [==============================] - 31s 2s/step - loss: 0.1163 - accuracy: 0.9675 - val_loss: 0.1723 - val_accuracy: 0.9187\n",
      "Epoch 7/15\n",
      "13/13 [==============================] - 31s 2s/step - loss: 0.1088 - accuracy: 0.9700 - val_loss: 0.1609 - val_accuracy: 0.9187\n",
      "Epoch 8/15\n",
      "13/13 [==============================] - 30s 2s/step - loss: 0.0746 - accuracy: 0.9750 - val_loss: 0.1852 - val_accuracy: 0.9187\n",
      "Epoch 9/15\n",
      "13/13 [==============================] - 30s 2s/step - loss: 0.0585 - accuracy: 0.9775 - val_loss: 0.1544 - val_accuracy: 0.9312\n",
      "Epoch 10/15\n",
      "13/13 [==============================] - 31s 2s/step - loss: 0.0746 - accuracy: 0.9750 - val_loss: 0.1428 - val_accuracy: 0.9250\n",
      "Epoch 11/15\n",
      "13/13 [==============================] - 31s 2s/step - loss: 0.0689 - accuracy: 0.9725 - val_loss: 0.1697 - val_accuracy: 0.9312\n",
      "Epoch 12/15\n",
      "13/13 [==============================] - 30s 2s/step - loss: 0.0560 - accuracy: 0.9825 - val_loss: 0.1620 - val_accuracy: 0.9312\n",
      "Epoch 13/15\n",
      "13/13 [==============================] - 31s 2s/step - loss: 0.0403 - accuracy: 0.9950 - val_loss: 0.1176 - val_accuracy: 0.9438\n",
      "Epoch 14/15\n",
      "13/13 [==============================] - 30s 2s/step - loss: 0.0364 - accuracy: 0.9875 - val_loss: 0.1370 - val_accuracy: 0.9312\n",
      "Epoch 15/15\n",
      "13/13 [==============================] - 31s 2s/step - loss: 0.0343 - accuracy: 0.9900 - val_loss: 0.1645 - val_accuracy: 0.9250\n"
     ]
    }
   ],
   "source": [
    "history = model_final.fit_generator(\n",
    "train_generator, steps_per_epoch=nb_train_sample//batch_size, \n",
    "    validation_steps=nb_validation_sample//batch_size, \n",
    "epochs = epochs, validation_data=validation_generator)"
   ]
  },
  {
   "cell_type": "code",
   "execution_count": 10,
   "id": "f7b92320",
   "metadata": {},
   "outputs": [
    {
     "data": {
      "text/plain": [
       "{'loss': [0.7206873297691345,\n",
       "  0.343529611825943,\n",
       "  0.2530573606491089,\n",
       "  0.17799465358257294,\n",
       "  0.1304069608449936,\n",
       "  0.11633408814668655,\n",
       "  0.10878681391477585,\n",
       "  0.07460366934537888,\n",
       "  0.058490458875894547,\n",
       "  0.07461898028850555,\n",
       "  0.06885114312171936,\n",
       "  0.055962882936000824,\n",
       "  0.040285948663949966,\n",
       "  0.03638800233602524,\n",
       "  0.03431840240955353],\n",
       " 'accuracy': [0.5649999976158142,\n",
       "  0.824999988079071,\n",
       "  0.9200000166893005,\n",
       "  0.9549999833106995,\n",
       "  0.9674999713897705,\n",
       "  0.9674999713897705,\n",
       "  0.9700000286102295,\n",
       "  0.9750000238418579,\n",
       "  0.9775000214576721,\n",
       "  0.9750000238418579,\n",
       "  0.9725000262260437,\n",
       "  0.9825000166893005,\n",
       "  0.9950000047683716,\n",
       "  0.987500011920929,\n",
       "  0.9900000095367432],\n",
       " 'val_loss': [0.4509522318840027,\n",
       "  0.30942684412002563,\n",
       "  0.2603795528411865,\n",
       "  0.20315539836883545,\n",
       "  0.17163050174713135,\n",
       "  0.17226791381835938,\n",
       "  0.16088977456092834,\n",
       "  0.1852242797613144,\n",
       "  0.1544286012649536,\n",
       "  0.14283151924610138,\n",
       "  0.16965165734291077,\n",
       "  0.16203434765338898,\n",
       "  0.11755947023630142,\n",
       "  0.13695180416107178,\n",
       "  0.16453853249549866],\n",
       " 'val_accuracy': [0.768750011920929,\n",
       "  0.893750011920929,\n",
       "  0.8812500238418579,\n",
       "  0.918749988079071,\n",
       "  0.918749988079071,\n",
       "  0.918749988079071,\n",
       "  0.918749988079071,\n",
       "  0.918749988079071,\n",
       "  0.9312499761581421,\n",
       "  0.925000011920929,\n",
       "  0.9312499761581421,\n",
       "  0.9312499761581421,\n",
       "  0.9437500238418579,\n",
       "  0.9312499761581421,\n",
       "  0.925000011920929]}"
      ]
     },
     "execution_count": 10,
     "metadata": {},
     "output_type": "execute_result"
    }
   ],
   "source": [
    "history.history"
   ]
  },
  {
   "cell_type": "code",
   "execution_count": 11,
   "id": "ca9afd29",
   "metadata": {},
   "outputs": [
    {
     "data": {
      "image/png": "[encoded data removed]",
      "text/plain": [
       "<Figure size 640x480 with 1 Axes>"
      ]
     },
     "metadata": {},
     "output_type": "display_data"
    }
   ],
   "source": [
    "import matplotlib.pyplot as plt\n",
    "plt.plot(history.history['accuracy'])\n",
    "plt.plot(history.history['val_accuracy'])\n",
    "plt.title('model_accuracy')\n",
    "plt.ylabel('accuracy')\n",
    "plt.xlabel('epochs')\n",
    "plt.legend(['train', 'test'], loc = 'upper left')\n",
    "plt.show()"
   ]
  },
  {
   "cell_type": "code",
   "execution_count": 12,
   "id": "e9fa2640",
   "metadata": {},
   "outputs": [
    {
     "data": {
      "image/png": "[encoded data removed]",
      "text/plain": [
       "<Figure size 640x480 with 1 Axes>"
      ]
     },
     "metadata": {},
     "output_type": "display_data"
    }
   ],
   "source": [
    "import matplotlib.pyplot as plt\n",
    "plt.plot(history.history['loss'])\n",
    "plt.plot(history.history['val_loss'])\n",
    "plt.title('model_loss')\n",
    "plt.ylabel('loss')\n",
    "plt.xlabel('epochs')\n",
    "plt.legend(['train', 'test'], loc = 'upper left')\n",
    "plt.show()"
   ]
  },
  {
   "cell_type": "code",
   "execution_count": 13,
   "id": "45debf0f",
   "metadata": {},
   "outputs": [],
   "source": [
    "model_final.save('model_final.h5')"
   ]
  },
  {
   "cell_type": "code",
   "execution_count": 14,
   "id": "16e16bbe",
   "metadata": {},
   "outputs": [],
   "source": [
    "class_dictionary = {}\n",
    "class_dictionary[0]  = 'no_car'\n",
    "class_dictionary[1]  = 'car'"
   ]
  },
  {
   "cell_type": "code",
   "execution_count": 15,
   "id": "ade30be2",
   "metadata": {},
   "outputs": [
    {
     "data": {
      "text/plain": [
       "{0: 'no_car', 1: 'car'}"
      ]
     },
     "execution_count": 15,
     "metadata": {},
     "output_type": "execute_result"
    }
   ],
   "source": [
    "class_dictionary"
   ]
  },
  {
   "cell_type": "markdown",
   "id": "f90bf2a1",
   "metadata": {},
   "source": [
    "Predictive System"
   ]
  },
  {
   "cell_type": "code",
   "execution_count": 16,
   "id": "af810ffd",
   "metadata": {},
   "outputs": [],
   "source": [
    "import cv2\n",
    "import numpy as np\n",
    "\n",
    "def make_prediction(image):\n",
    "    image = cv2.imread(image)\n",
    "    image = cv2.resize(image, (48, 48))\n",
    "    img = image/255\n",
    "#     (1, 48, 48, 3) -> 4D Tensor\n",
    "    img = np.expand_dims(img, axis = 0)\n",
    "    \n",
    "    class_predicted = model_final.predict(img)\n",
    "    intId = np.argmax(class_predicted[0])\n",
    "    label = class_dictionary[intId]\n",
    "    return label"
   ]
  },
  {
   "cell_type": "code",
   "execution_count": 17,
   "id": "89cdbf5d",
   "metadata": {},
   "outputs": [
    {
     "name": "stdout",
     "output_type": "stream",
     "text": [
      "1/1 [==============================] - 0s 185ms/step\n"
     ]
    },
    {
     "data": {
      "text/plain": [
       "'car'"
      ]
     },
     "execution_count": 17,
     "metadata": {},
     "output_type": "execute_result"
    }
   ],
   "source": [
    "make_prediction(\"roi_1.png\")"
   ]
  },
  {
   "cell_type": "code",
   "execution_count": 18,
   "id": "b60c7758",
   "metadata": {},
   "outputs": [
    {
     "name": "stdout",
     "output_type": "stream",
     "text": [
      "1/1 [==============================] - 0s 32ms/step\n"
     ]
    },
    {
     "data": {
      "text/plain": [
       "'no_car'"
      ]
     },
     "execution_count": 18,
     "metadata": {},
     "output_type": "execute_result"
    }
   ],
   "source": [
    "make_prediction(\"spot169.jpg\")"
   ]
  },
  {
   "cell_type": "code",
   "execution_count": 19,
   "id": "34627189",
   "metadata": {},
   "outputs": [],
   "source": [
    "model_final.save(\"model_final.h5\")"
   ]
  },
  {
   "cell_type": "code",
   "execution_count": null,
   "id": "0be24855",
   "metadata": {},
   "outputs": [],
   "source": []
  }
 ],
 "metadata": {
  "kernelspec": {
   "display_name": "Python 3",
   "language": "python",
   "name": "python3"
  },
  "language_info": {
   "codemirror_mode": {
    "name": "ipython",
    "version": 3
   },
   "file_extension": ".py",
   "mimetype": "text/x-python",
   "name": "python",
   "nbconvert_exporter": "python",
   "pygments_lexer": "ipython3",
   "version": "3.10.14"
  }
 },
 "nbformat": 4,
 "nbformat_minor": 5
}
